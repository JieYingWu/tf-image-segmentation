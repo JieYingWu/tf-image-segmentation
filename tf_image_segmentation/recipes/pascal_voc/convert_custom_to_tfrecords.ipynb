{
 "cells": [
  {
   "cell_type": "code",
   "execution_count": 19,
   "metadata": {
    "collapsed": true
   },
   "outputs": [],
   "source": [
    "import os, sys, random\n",
    "import numpy as np\n",
    "\n",
    "\n",
    "sys.path.append(\"/home/jieying/CIS2/tf-image-segmentation/\")\n",
    "os.environ[\"CUDA_VISIBLE_DEVICES\"] = '1'\n",
    "\n",
    "image_root = '/home/jieying/CIS2/data/foreground/'\n",
    "mask_root = '/home/jieying/CIS2/data/foreground_masks/'\n",
    "\n",
    "from tf_image_segmentation.utils.tf_records import write_image_annotation_pairs_to_tfrecord\n",
    "\n",
    "# Returns a list of (image, annotation) filename pairs (filename.jpg, filename.png)\n",
    "image_names = os.listdir(image_root)\n",
    "mask_names = os.listdir(mask_root)\n",
    "\n",
    "overall_val_image_annotation_filename_pairs = []\n",
    "overall_train_image_annotation_filename_pairs = []\n",
    "indices = range(0,np.size(image_names))\n",
    "np.random.shuffle(indices)\n",
    "\n",
    "for i in indices[0:79]:\n",
    "    overall_train_image_annotation_filename_pairs.append((image_root + image_names[i], mask_root + mask_names[i]))\n",
    "\n",
    "for i in indices[80:-1]:\n",
    "    overall_val_image_annotation_filename_pairs.append((image_root + image_names[i], mask_root + mask_names[i]))\n",
    "\n",
    "# You can create your own tfrecords file by providing\n",
    "# your list with (image, annotation) filename pairs here\n",
    "write_image_annotation_pairs_to_tfrecord(filename_pairs=overall_val_image_annotation_filename_pairs,\n",
    "                                         tfrecords_filename='custom_augmented_value.tfrecords')\n",
    "\n",
    "write_image_annotation_pairs_to_tfrecord(filename_pairs=overall_train_image_annotation_filename_pairs,\n",
    "                                         tfrecords_filename='custom_augmented_train.tfrecords')"
   ]
  },
  {
   "cell_type": "code",
   "execution_count": 1,
   "metadata": {
    "collapsed": true
   },
   "outputs": [],
   "source": [
    "import os, sys, random\n",
    "import numpy as np\n",
    "\n",
    "\n",
    "sys.path.append(\"/home/jieying/CIS2/tf-image-segmentation/\")\n",
    "os.environ[\"CUDA_VISIBLE_DEVICES\"] = '1'\n",
    "\n",
    "image_root = '/home/jieying/CIS2/data/foreground/'\n",
    "mask_root = '/home/jieying/CIS2/data/foreground_masks/'\n",
    "\n",
    "from tf_image_segmentation.utils.tf_records import write_image_annotation_pairs_to_tfrecord\n",
    "\n",
    "# Returns a list of (image, annotation) filename pairs (filename.jpg, filename.png)\n",
    "image_names = os.listdir(image_root)\n",
    "mask_names = os.listdir(mask_root)\n",
    "\n",
    "overall_val_image_annotation_filename_pairs = []\n",
    "overall_train_image_annotation_filename_pairs = []\n",
    "indices = range(0,np.size(image_names))\n",
    "np.random.shuffle(indices)"
   ]
  },
  {
   "cell_type": "code",
   "execution_count": 16,
   "metadata": {
    "collapsed": true
   },
   "outputs": [],
   "source": [
    "for i in indices[80:-1]:\n",
    "    overall_val_image_annotation_filename_pairs.append((image_root + image_names[i], mask_root + mask_names[i]))\n"
   ]
  },
  {
   "cell_type": "code",
   "execution_count": 17,
   "metadata": {},
   "outputs": [],
   "source": [
    "mask = cv2.imread(overall_val_image_annotation_filename_pairs[1][1])"
   ]
  },
  {
   "cell_type": "code",
   "execution_count": 18,
   "metadata": {},
   "outputs": [
    {
     "data": {
      "text/plain": [
       "array([0, 1], dtype=uint8)"
      ]
     },
     "execution_count": 18,
     "metadata": {},
     "output_type": "execute_result"
    }
   ],
   "source": [
    "np.unique(mask)"
   ]
  },
  {
   "cell_type": "code",
   "execution_count": 15,
   "metadata": {},
   "outputs": [
    {
     "data": {
      "text/plain": [
       "True"
      ]
     },
     "execution_count": 15,
     "metadata": {},
     "output_type": "execute_result"
    }
   ],
   "source": [
    "cv2.imwrite(overall_val_image_annotation_filename_pairs[1][1], mask)"
   ]
  },
  {
   "cell_type": "code",
   "execution_count": null,
   "metadata": {
    "collapsed": true
   },
   "outputs": [],
   "source": []
  }
 ],
 "metadata": {
  "kernelspec": {
   "display_name": "Python 2",
   "language": "python",
   "name": "python2"
  },
  "language_info": {
   "codemirror_mode": {
    "name": "ipython",
    "version": 2
   },
   "file_extension": ".py",
   "mimetype": "text/x-python",
   "name": "python",
   "nbconvert_exporter": "python",
   "pygments_lexer": "ipython2",
   "version": "2.7.12"
  }
 },
 "nbformat": 4,
 "nbformat_minor": 1
}
