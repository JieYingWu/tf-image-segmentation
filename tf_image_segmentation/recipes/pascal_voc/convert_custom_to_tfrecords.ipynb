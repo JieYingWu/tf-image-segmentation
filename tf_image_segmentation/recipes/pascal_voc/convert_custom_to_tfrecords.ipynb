{
 "cells": [
  {
   "cell_type": "code",
   "execution_count": 32,
   "metadata": {},
   "outputs": [],
   "source": [
    "import os, sys, random\n",
    "\n",
    "\n",
    "sys.path.append(\"/home/jieying/CIS2/tf-image-segmentation/\")\n",
    "os.environ[\"CUDA_VISIBLE_DEVICES\"] = '1'\n",
    "\n",
    "image_root = '/home/jieying/CIS2/data/foreground/'\n",
    "mask_root = '/home/jieying/CIS2/data/foreground_masks/'\n",
    "SPLIT = 75\n",
    "\n",
    "from tf_image_segmentation.utils.tf_records import write_image_annotation_pairs_to_tfrecord\n",
    "\n",
    "# Returns a list of (image, annotation) filename pairs (filename.jpg, filename.png)\n",
    "image_names = os.listdir(image_root)\n",
    "mask_names = os.listdir(mask_root)\n",
    "\n",
    "overall_val_image_annotation_filename_pairs = []\n",
    "overall_train_image_annotation_filename_pairs = []\n",
    "\n",
    "for i in range(0,len(image_names)):\n",
    "    flip = random.randint(1,100)\n",
    "    if flip > SPLIT:\n",
    "        overall_val_image_annotation_filename_pairs.append((image_root + image_names[i], mask_root + mask_names[i]))\n",
    "    else:\n",
    "        overall_train_image_annotation_filename_pairs.append((image_root + image_names[i], mask_root + mask_names[i]))\n",
    "\n",
    "# You can create your own tfrecords file by providing\n",
    "# your list with (image, annotation) filename pairs here\n",
    "write_image_annotation_pairs_to_tfrecord(filename_pairs=overall_val_image_annotation_filename_pairs,\n",
    "                                         tfrecords_filename='custom_augmented_value.tfrecords')\n",
    "\n",
    "write_image_annotation_pairs_to_tfrecord(filename_pairs=overall_train_image_annotation_filename_pairs,\n",
    "                                         tfrecords_filename='custom_augmented_train.tfrecords')"
   ]
  },
  {
   "cell_type": "code",
   "execution_count": 28,
   "metadata": {
    "collapsed": true
   },
   "outputs": [],
   "source": [
    "%matplotlib inline\n",
    "\n",
    "import skimage.io as io\n",
    "\n",
    "test = io.imread('/home/jieying/CIS2/data/foreground_masks/0_RGB_0000t__12136_mask.png')"
   ]
  },
  {
   "cell_type": "code",
   "execution_count": 29,
   "metadata": {},
   "outputs": [
    {
     "data": {
      "text/plain": [
       "array([0, 1], dtype=uint8)"
      ]
     },
     "execution_count": 29,
     "metadata": {},
     "output_type": "execute_result"
    }
   ],
   "source": [
    "import numpy as np\n",
    "\n",
    "np.unique(test)"
   ]
  },
  {
   "cell_type": "code",
   "execution_count": 30,
   "metadata": {},
   "outputs": [
    {
     "data": {
      "text/plain": [
       "<matplotlib.image.AxesImage at 0x7f91a0933190>"
      ]
     },
     "execution_count": 30,
     "metadata": {},
     "output_type": "execute_result"
    },
    {
     "data": {
      "image/png": "[encoded data removed]",
      "text/plain": [
       "<matplotlib.figure.Figure at 0x7f91a11b4450>"
      ]
     },
     "metadata": {},
     "output_type": "display_data"
    }
   ],
   "source": [
    "io.imshow(test)"
   ]
  },
  {
   "cell_type": "code",
   "execution_count": null,
   "metadata": {
    "collapsed": true
   },
   "outputs": [],
   "source": []
  }
 ],
 "metadata": {
  "kernelspec": {
   "display_name": "Python 2",
   "language": "python",
   "name": "python2"
  },
  "language_info": {
   "codemirror_mode": {
    "name": "ipython",
    "version": 2
   },
   "file_extension": ".py",
   "mimetype": "text/x-python",
   "name": "python",
   "nbconvert_exporter": "python",
   "pygments_lexer": "ipython2",
   "version": "2.7.12"
  }
 },
 "nbformat": 4,
 "nbformat_minor": 1
}
